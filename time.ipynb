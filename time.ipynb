{
 "cells": [
  {
   "cell_type": "code",
   "execution_count": 32,
   "metadata": {},
   "outputs": [
    {
     "name": "stdout",
     "output_type": "stream",
     "text": [
      "15:01:00\n",
      "18:09:45\n",
      "15:01:40\n"
     ]
    }
   ],
   "source": [
    "A = str(input()).split(':')\n",
    "B = str(input()).split(':')\n",
    "C = str(input()).split(':')"
   ]
  },
  {
   "cell_type": "code",
   "execution_count": 33,
   "metadata": {},
   "outputs": [
    {
     "name": "stdout",
     "output_type": "stream",
     "text": [
      "18:10:05\n"
     ]
    }
   ],
   "source": [
    "day_sec = 24 * 3600\n",
    "\n",
    "A = int(A[0]) * 3600 + int(A[1]) * 60 + int(A[2]) \n",
    "B = int(B[0]) * 3600 + int(B[1]) * 60 + int(B[2]) \n",
    "C = int(C[0]) * 3600 + int(C[1]) * 60 + int(C[2]) \n",
    "\n",
    "if C > A: \n",
    "    B = (B + int(round((C - A) / 2, 0))) % day_sec\n",
    "else:\n",
    "    B = (B + int(round((C + day_sec - A) / 2, 0))) % day_sec\n",
    "    \n",
    "x = B // 3600\n",
    "y = (B - (B // 3600)*3600) // 60\n",
    "z = B - (B // 3600) * 3600 - ((B - (B // 3600)*3600) // 60) * 60\n",
    "\n",
    "frmt = ''\n",
    "for el in [x, y, z]:\n",
    "    if len(str(el)) == 1:\n",
    "        frmt += '0' + str(el) + ':'\n",
    "    else:\n",
    "        frmt += str(el) + ':'\n",
    "print(frmt[:-1])"
   ]
  },
  {
   "cell_type": "code",
   "execution_count": null,
   "metadata": {},
   "outputs": [],
   "source": []
  }
 ],
 "metadata": {
  "kernelspec": {
   "display_name": "Python 3",
   "language": "python",
   "name": "python3"
  },
  "language_info": {
   "codemirror_mode": {
    "name": "ipython",
    "version": 3
   },
   "file_extension": ".py",
   "mimetype": "text/x-python",
   "name": "python",
   "nbconvert_exporter": "python",
   "pygments_lexer": "ipython3",
   "version": "3.7.0"
  }
 },
 "nbformat": 4,
 "nbformat_minor": 2
}
