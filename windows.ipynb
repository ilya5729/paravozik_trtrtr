{
 "cells": [
  {
   "cell_type": "code",
   "execution_count": 22,
   "metadata": {},
   "outputs": [
    {
     "name": "stdout",
     "output_type": "stream",
     "text": [
      "105\n",
      "45\n",
      "20\n",
      "30\n",
      "560\n",
      "1\n",
      "5\n",
      "7\n",
      "50\n",
      "80\n",
      "4\n",
      "45\n",
      "345\n",
      "25\n",
      "90\n",
      "45\n",
      "23\n",
      "10\n",
      "6\n",
      "69\n",
      "777\n",
      "777\n",
      "777\n"
     ]
    }
   ],
   "source": [
    "N = int(input())\n",
    "M = int(input())\n",
    "K = int(input())\n",
    "k = []\n",
    "for i in range(K):\n",
    "    k.append(int(input()))"
   ]
  },
  {
   "cell_type": "code",
   "execution_count": 23,
   "metadata": {},
   "outputs": [],
   "source": [
    "windows = [0] * N\n",
    "windows[M-1] = 1\n",
    "\n",
    "for el in k:\n",
    "    tmp = windows.pop(el%len(k))\n",
    "    windows.insert(0, tmp)\n",
    "    # print(windows)"
   ]
  },
  {
   "cell_type": "code",
   "execution_count": 27,
   "metadata": {},
   "outputs": [
    {
     "data": {
      "text/plain": [
       "45"
      ]
     },
     "execution_count": 27,
     "metadata": {},
     "output_type": "execute_result"
    }
   ],
   "source": [
    "windows.index(1) +1"
   ]
  },
  {
   "cell_type": "code",
   "execution_count": null,
   "metadata": {},
   "outputs": [],
   "source": []
  }
 ],
 "metadata": {
  "kernelspec": {
   "display_name": "Python 3",
   "language": "python",
   "name": "python3"
  },
  "language_info": {
   "codemirror_mode": {
    "name": "ipython",
    "version": 3
   },
   "file_extension": ".py",
   "mimetype": "text/x-python",
   "name": "python",
   "nbconvert_exporter": "python",
   "pygments_lexer": "ipython3",
   "version": "3.7.0"
  }
 },
 "nbformat": 4,
 "nbformat_minor": 2
}
